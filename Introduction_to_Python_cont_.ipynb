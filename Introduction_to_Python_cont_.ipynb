{
  "nbformat": 4,
  "nbformat_minor": 0,
  "metadata": {
    "colab": {
      "name": "Introduction_to_Python_cont_.ipynb",
      "version": "0.3.2",
      "provenance": [],
      "collapsed_sections": [
        "KucH3TZ_QOAW",
        "jmwP3Pf_iz64",
        "7-Tj4Qmyiz46",
        "nOMPQXfkiz1U",
        "d2IoXqZ4izzX",
        "hCNDgOuQnFOi",
        "eHZXACYUr_w2",
        "vspcGFjCxmLZ",
        "zmABXpWq1x9Y",
        "O3_gsIPCjO4i",
        "DgLNYZDalxDQ"
      ],
      "include_colab_link": true
    },
    "kernelspec": {
      "name": "python3",
      "display_name": "Python 3"
    }
  },
  "cells": [
    {
      "cell_type": "markdown",
      "metadata": {
        "id": "view-in-github",
        "colab_type": "text"
      },
      "source": [
        "<a href=\"https://colab.research.google.com/github/richbase/capsuitepoc/blob/master/Introduction_to_Python_cont_.ipynb\" target=\"_parent\"><img src=\"https://colab.research.google.com/assets/colab-badge.svg\" alt=\"Open In Colab\"/></a>"
      ]
    },
    {
      "cell_type": "markdown",
      "metadata": {
        "id": "0JM14arNnzu-",
        "colab_type": "text"
      },
      "source": [
        "#Introduction To Python Continued.\n",
        "\n",
        "## Lesson Plan\n",
        "\n",
        "* Data Structures\n",
        "* Control Flow Statements\n",
        "* Classes and Objects\n",
        "* Functions and Methods\n",
        "* Exercises"
      ]
    },
    {
      "cell_type": "markdown",
      "metadata": {
        "id": "KucH3TZ_QOAW",
        "colab_type": "text"
      },
      "source": [
        "# Data Structures\n",
        "\n",
        "**Use**: Used to hold related data together\n",
        "\n",
        "**Examples:**\n",
        "\n",
        "\n",
        "*   List\n",
        "*   Tuple\n",
        "*   Dictionary\n",
        "*   Set\n",
        "\n",
        "\n",
        "\n"
      ]
    },
    {
      "cell_type": "code",
      "metadata": {
        "id": "JMSw2qGgNKIS",
        "colab_type": "code",
        "colab": {}
      },
      "source": [
        ""
      ],
      "execution_count": 0,
      "outputs": []
    },
    {
      "cell_type": "markdown",
      "metadata": {
        "colab_type": "text",
        "id": "jmwP3Pf_iz64"
      },
      "source": [
        "## List\n",
        "\n",
        "\n",
        "* Holds an ordered collection of items\n",
        "* Created using [ ]\n",
        "* Lists are mutable"
      ]
    },
    {
      "cell_type": "code",
      "metadata": {
        "colab_type": "code",
        "outputId": "0768d835-4ec4-4e6f-878e-d00413ad0058",
        "id": "PgUgWKAliz6l",
        "colab": {
          "base_uri": "https://localhost:8080/",
          "height": 34
        }
      },
      "source": [
        "# Create a list that holds countries\n",
        "['Botswana', 'Lesotho', 'South Africa', 'Zimbabwe']\n",
        "\n",
        "# assign the list a name\n",
        "countries = ['Botswana', 'Lesotho', 'South Africa', 'Zimbabwe']\n",
        "countries\n",
        "\n",
        "# Access the data stored in the list\n",
        "print('My favourite Country is ' + countries[0])"
      ],
      "execution_count": 0,
      "outputs": [
        {
          "output_type": "stream",
          "text": [
            "My favourite Country is Botswana\n"
          ],
          "name": "stdout"
        }
      ]
    },
    {
      "cell_type": "markdown",
      "metadata": {
        "colab_type": "text",
        "id": "xtfzemoNiz6i"
      },
      "source": [
        "Lists have methods associate With them:\n",
        "- append\n",
        "- sort\n",
        "- pop"
      ]
    },
    {
      "cell_type": "code",
      "metadata": {
        "colab_type": "code",
        "outputId": "50f7735d-9852-49f4-dd5e-fcb3c3238517",
        "id": "NMr5gUpriz6O",
        "colab": {
          "base_uri": "https://localhost:8080/",
          "height": 34
        }
      },
      "source": [
        "# Add a country to the list\n",
        "\n",
        "#countries.append('Zambia')\n",
        "countries\n",
        "\n",
        "# pop vs remove\n",
        "\n",
        "#countries.pop()\n",
        "#countries.remove('Zambia')"
      ],
      "execution_count": 0,
      "outputs": [
        {
          "output_type": "execute_result",
          "data": {
            "text/plain": [
              "['Botswana', 'Lesotho', 'South Africa', 'Zimbabwe']"
            ]
          },
          "metadata": {
            "tags": []
          },
          "execution_count": 5
        }
      ]
    },
    {
      "cell_type": "code",
      "metadata": {
        "colab_type": "code",
        "outputId": "e4242cf1-80a4-4271-e2c2-472743b77420",
        "id": "SH356uTyiz5-",
        "colab": {
          "base_uri": "https://localhost:8080/",
          "height": 34
        }
      },
      "source": [
        "# Sort in descending order\n",
        "countries.sort(reverse=True)\n",
        "countries"
      ],
      "execution_count": 0,
      "outputs": [
        {
          "output_type": "execute_result",
          "data": {
            "text/plain": [
              "['Zimbabwe', 'South Africa', 'Lesotho', 'Botswana']"
            ]
          },
          "metadata": {
            "tags": []
          },
          "execution_count": 6
        }
      ]
    },
    {
      "cell_type": "code",
      "metadata": {
        "colab_type": "code",
        "outputId": "c3cdbe50-b785-4411-bf44-fbadacd22587",
        "id": "lrBrkfKFiz5v",
        "colab": {
          "base_uri": "https://localhost:8080/",
          "height": 51
        }
      },
      "source": [
        "# Python stores references in variables not the actual data\n",
        "\n",
        "print('My favourite Country is ' + countries[0])\n",
        "\n",
        "# make copies before using the data\n",
        "countries_copy = countries.copy()\n",
        "countries_copy.sort()\n",
        "\n",
        "print('My favourite Country is ' + countries_copy[0])"
      ],
      "execution_count": 0,
      "outputs": [
        {
          "output_type": "stream",
          "text": [
            "My favourite Country of all time is Zimbabwe\n",
            "My favourite Country of all time is Botswana\n"
          ],
          "name": "stdout"
        }
      ]
    },
    {
      "cell_type": "code",
      "metadata": {
        "colab_type": "code",
        "outputId": "655762ad-7bbf-4b55-e2e6-5224b798b28c",
        "id": "BMhHhyIPiz5Y",
        "colab": {
          "base_uri": "https://localhost:8080/",
          "height": 51
        }
      },
      "source": [
        "print(countries)\n",
        "\n",
        "print(countries_copy)"
      ],
      "execution_count": 0,
      "outputs": [
        {
          "output_type": "stream",
          "text": [
            "['Zimbabwe', 'South Africa', 'Lesotho', 'Botswana']\n",
            "['Botswana', 'Lesotho', 'South Africa', 'Zimbabwe']\n"
          ],
          "name": "stdout"
        }
      ]
    },
    {
      "cell_type": "code",
      "metadata": {
        "colab_type": "code",
        "outputId": "7b621822-814d-4ac2-b4a6-89d0b7af8e16",
        "id": "rpviyh3Jiz4_",
        "colab": {
          "base_uri": "https://localhost:8080/",
          "height": 2023
        }
      },
      "source": [
        "# To get all the methods supported by the list class\n",
        "help(countries)"
      ],
      "execution_count": 0,
      "outputs": [
        {
          "output_type": "stream",
          "text": [
            "Help on list object:\n",
            "\n",
            "class list(object)\n",
            " |  list() -> new empty list\n",
            " |  list(iterable) -> new list initialized from iterable's items\n",
            " |  \n",
            " |  Methods defined here:\n",
            " |  \n",
            " |  __add__(self, value, /)\n",
            " |      Return self+value.\n",
            " |  \n",
            " |  __contains__(self, key, /)\n",
            " |      Return key in self.\n",
            " |  \n",
            " |  __delitem__(self, key, /)\n",
            " |      Delete self[key].\n",
            " |  \n",
            " |  __eq__(self, value, /)\n",
            " |      Return self==value.\n",
            " |  \n",
            " |  __ge__(self, value, /)\n",
            " |      Return self>=value.\n",
            " |  \n",
            " |  __getattribute__(self, name, /)\n",
            " |      Return getattr(self, name).\n",
            " |  \n",
            " |  __getitem__(...)\n",
            " |      x.__getitem__(y) <==> x[y]\n",
            " |  \n",
            " |  __gt__(self, value, /)\n",
            " |      Return self>value.\n",
            " |  \n",
            " |  __iadd__(self, value, /)\n",
            " |      Implement self+=value.\n",
            " |  \n",
            " |  __imul__(self, value, /)\n",
            " |      Implement self*=value.\n",
            " |  \n",
            " |  __init__(self, /, *args, **kwargs)\n",
            " |      Initialize self.  See help(type(self)) for accurate signature.\n",
            " |  \n",
            " |  __iter__(self, /)\n",
            " |      Implement iter(self).\n",
            " |  \n",
            " |  __le__(self, value, /)\n",
            " |      Return self<=value.\n",
            " |  \n",
            " |  __len__(self, /)\n",
            " |      Return len(self).\n",
            " |  \n",
            " |  __lt__(self, value, /)\n",
            " |      Return self<value.\n",
            " |  \n",
            " |  __mul__(self, value, /)\n",
            " |      Return self*value.\n",
            " |  \n",
            " |  __ne__(self, value, /)\n",
            " |      Return self!=value.\n",
            " |  \n",
            " |  __new__(*args, **kwargs) from builtins.type\n",
            " |      Create and return a new object.  See help(type) for accurate signature.\n",
            " |  \n",
            " |  __repr__(self, /)\n",
            " |      Return repr(self).\n",
            " |  \n",
            " |  __reversed__(...)\n",
            " |      L.__reversed__() -- return a reverse iterator over the list\n",
            " |  \n",
            " |  __rmul__(self, value, /)\n",
            " |      Return value*self.\n",
            " |  \n",
            " |  __setitem__(self, key, value, /)\n",
            " |      Set self[key] to value.\n",
            " |  \n",
            " |  __sizeof__(...)\n",
            " |      L.__sizeof__() -- size of L in memory, in bytes\n",
            " |  \n",
            " |  append(...)\n",
            " |      L.append(object) -> None -- append object to end\n",
            " |  \n",
            " |  clear(...)\n",
            " |      L.clear() -> None -- remove all items from L\n",
            " |  \n",
            " |  copy(...)\n",
            " |      L.copy() -> list -- a shallow copy of L\n",
            " |  \n",
            " |  count(...)\n",
            " |      L.count(value) -> integer -- return number of occurrences of value\n",
            " |  \n",
            " |  extend(...)\n",
            " |      L.extend(iterable) -> None -- extend list by appending elements from the iterable\n",
            " |  \n",
            " |  index(...)\n",
            " |      L.index(value, [start, [stop]]) -> integer -- return first index of value.\n",
            " |      Raises ValueError if the value is not present.\n",
            " |  \n",
            " |  insert(...)\n",
            " |      L.insert(index, object) -- insert object before index\n",
            " |  \n",
            " |  pop(...)\n",
            " |      L.pop([index]) -> item -- remove and return item at index (default last).\n",
            " |      Raises IndexError if list is empty or index is out of range.\n",
            " |  \n",
            " |  remove(...)\n",
            " |      L.remove(value) -> None -- remove first occurrence of value.\n",
            " |      Raises ValueError if the value is not present.\n",
            " |  \n",
            " |  reverse(...)\n",
            " |      L.reverse() -- reverse *IN PLACE*\n",
            " |  \n",
            " |  sort(...)\n",
            " |      L.sort(key=None, reverse=False) -> None -- stable sort *IN PLACE*\n",
            " |  \n",
            " |  ----------------------------------------------------------------------\n",
            " |  Data and other attributes defined here:\n",
            " |  \n",
            " |  __hash__ = None\n",
            "\n"
          ],
          "name": "stdout"
        }
      ]
    },
    {
      "cell_type": "markdown",
      "metadata": {
        "colab_type": "text",
        "id": "7-Tj4Qmyiz46"
      },
      "source": [
        "## Tuple\n",
        "* Used to hold together multiple objects\n",
        "* They are immutable\n",
        "* declared by ( , )\n",
        "    * The paranthesis are optional but its good to have them for readability"
      ]
    },
    {
      "cell_type": "code",
      "metadata": {
        "colab_type": "code",
        "outputId": "d89f6e37-a398-48de-8cf8-2924f4d1f3c9",
        "id": "vdGV1sowiz4c",
        "colab": {
          "base_uri": "https://localhost:8080/",
          "height": 51
        }
      },
      "source": [
        "# declare a tuple\n",
        "(12.09567, -7.90765)\n",
        "\n",
        "# assign the tuple a name\n",
        "coordinates = (12.09567, -7.90765)\n",
        "print(coordinates)\n",
        "\n",
        "# accessing the tuple\n",
        "coordinates[0]"
      ],
      "execution_count": 0,
      "outputs": [
        {
          "output_type": "stream",
          "text": [
            "(12.09567, -7.90765)\n"
          ],
          "name": "stdout"
        },
        {
          "output_type": "execute_result",
          "data": {
            "text/plain": [
              "12.09567"
            ]
          },
          "metadata": {
            "tags": []
          },
          "execution_count": 10
        }
      ]
    },
    {
      "cell_type": "code",
      "metadata": {
        "colab_type": "code",
        "id": "ars3KRgoiz4S",
        "colab": {}
      },
      "source": [
        ""
      ],
      "execution_count": 0,
      "outputs": []
    },
    {
      "cell_type": "code",
      "metadata": {
        "colab_type": "code",
        "outputId": "b5929947-8e34-4483-af09-c635c31c7a59",
        "id": "8bKWwDWniz34",
        "colab": {
          "base_uri": "https://localhost:8080/",
          "height": 34
        }
      },
      "source": [
        "test = (123, 234, 345)\n",
        "test"
      ],
      "execution_count": 0,
      "outputs": [
        {
          "output_type": "execute_result",
          "data": {
            "text/plain": [
              "(123, 234, 345)"
            ]
          },
          "metadata": {
            "tags": []
          },
          "execution_count": 14
        }
      ]
    },
    {
      "cell_type": "code",
      "metadata": {
        "colab_type": "code",
        "outputId": "f7d69956-5bab-4f12-d786-3e890bedc27c",
        "id": "EruqGy_Niz3h",
        "colab": {
          "base_uri": "https://localhost:8080/",
          "height": 163
        }
      },
      "source": [
        "\n",
        "# Immutability\n",
        "coordinates[0] = 123.0985"
      ],
      "execution_count": 0,
      "outputs": [
        {
          "output_type": "error",
          "ename": "TypeError",
          "evalue": "ignored",
          "traceback": [
            "\u001b[0;31m---------------------------------------------------------------------------\u001b[0m",
            "\u001b[0;31mTypeError\u001b[0m                                 Traceback (most recent call last)",
            "\u001b[0;32m<ipython-input-15-d4b61a021803>\u001b[0m in \u001b[0;36m<module>\u001b[0;34m()\u001b[0m\n\u001b[0;32m----> 1\u001b[0;31m \u001b[0mcoordinates\u001b[0m\u001b[0;34m[\u001b[0m\u001b[0;36m0\u001b[0m\u001b[0;34m]\u001b[0m \u001b[0;34m=\u001b[0m \u001b[0;36m123.0985\u001b[0m\u001b[0;34m\u001b[0m\u001b[0;34m\u001b[0m\u001b[0m\n\u001b[0m",
            "\u001b[0;31mTypeError\u001b[0m: 'tuple' object does not support item assignment"
          ]
        }
      ]
    },
    {
      "cell_type": "code",
      "metadata": {
        "colab_type": "code",
        "outputId": "8f1d2e74-7f85-41cc-a65b-f4f374311896",
        "id": "Xp3kMYociz3P",
        "colab": {
          "base_uri": "https://localhost:8080/",
          "height": 34
        }
      },
      "source": [
        "# Add tuples to make one tuple\n",
        "test.__add__(coordinates)"
      ],
      "execution_count": 0,
      "outputs": [
        {
          "output_type": "execute_result",
          "data": {
            "text/plain": [
              "(123, 234, 345, 12.09567, -7.90765)"
            ]
          },
          "metadata": {
            "tags": []
          },
          "execution_count": 16
        }
      ]
    },
    {
      "cell_type": "code",
      "metadata": {
        "colab_type": "code",
        "outputId": "ce7a7554-b104-4eb0-da43-b11f1aaf187a",
        "id": "uJpoquasiz22",
        "colab": {
          "base_uri": "https://localhost:8080/",
          "height": 34
        }
      },
      "source": [
        "# Count the number of occurences of an element in the tuple\n",
        "test.count(234)"
      ],
      "execution_count": 0,
      "outputs": [
        {
          "output_type": "execute_result",
          "data": {
            "text/plain": [
              "1"
            ]
          },
          "metadata": {
            "tags": []
          },
          "execution_count": 17
        }
      ]
    },
    {
      "cell_type": "code",
      "metadata": {
        "colab_type": "code",
        "outputId": "94239ad7-9bf0-4586-abc3-2e12eb2c936f",
        "id": "PvOxMb7eiz2k",
        "colab": {
          "base_uri": "https://localhost:8080/",
          "height": 1207
        }
      },
      "source": [
        "# Get all the methods associated with tuples\n",
        "help(coordinates)"
      ],
      "execution_count": 0,
      "outputs": [
        {
          "output_type": "stream",
          "text": [
            "Help on tuple object:\n",
            "\n",
            "class tuple(object)\n",
            " |  tuple() -> empty tuple\n",
            " |  tuple(iterable) -> tuple initialized from iterable's items\n",
            " |  \n",
            " |  If the argument is a tuple, the return value is the same object.\n",
            " |  \n",
            " |  Methods defined here:\n",
            " |  \n",
            " |  __add__(self, value, /)\n",
            " |      Return self+value.\n",
            " |  \n",
            " |  __contains__(self, key, /)\n",
            " |      Return key in self.\n",
            " |  \n",
            " |  __eq__(self, value, /)\n",
            " |      Return self==value.\n",
            " |  \n",
            " |  __ge__(self, value, /)\n",
            " |      Return self>=value.\n",
            " |  \n",
            " |  __getattribute__(self, name, /)\n",
            " |      Return getattr(self, name).\n",
            " |  \n",
            " |  __getitem__(self, key, /)\n",
            " |      Return self[key].\n",
            " |  \n",
            " |  __getnewargs__(...)\n",
            " |  \n",
            " |  __gt__(self, value, /)\n",
            " |      Return self>value.\n",
            " |  \n",
            " |  __hash__(self, /)\n",
            " |      Return hash(self).\n",
            " |  \n",
            " |  __iter__(self, /)\n",
            " |      Implement iter(self).\n",
            " |  \n",
            " |  __le__(self, value, /)\n",
            " |      Return self<=value.\n",
            " |  \n",
            " |  __len__(self, /)\n",
            " |      Return len(self).\n",
            " |  \n",
            " |  __lt__(self, value, /)\n",
            " |      Return self<value.\n",
            " |  \n",
            " |  __mul__(self, value, /)\n",
            " |      Return self*value.\n",
            " |  \n",
            " |  __ne__(self, value, /)\n",
            " |      Return self!=value.\n",
            " |  \n",
            " |  __new__(*args, **kwargs) from builtins.type\n",
            " |      Create and return a new object.  See help(type) for accurate signature.\n",
            " |  \n",
            " |  __repr__(self, /)\n",
            " |      Return repr(self).\n",
            " |  \n",
            " |  __rmul__(self, value, /)\n",
            " |      Return value*self.\n",
            " |  \n",
            " |  count(...)\n",
            " |      T.count(value) -> integer -- return number of occurrences of value\n",
            " |  \n",
            " |  index(...)\n",
            " |      T.index(value, [start, [stop]]) -> integer -- return first index of value.\n",
            " |      Raises ValueError if the value is not present.\n",
            "\n"
          ],
          "name": "stdout"
        }
      ]
    },
    {
      "cell_type": "code",
      "metadata": {
        "colab_type": "code",
        "outputId": "ed767a91-4e7a-4a17-82e3-bc9cd702c0b3",
        "id": "fQobpL26iz1j",
        "colab": {
          "base_uri": "https://localhost:8080/",
          "height": 34
        }
      },
      "source": [
        "# Tuple within a tuple\n",
        "\n",
        "marks = (('Tapiwa', 53), ('Ofentse', 68), ('Wame', 90))\n",
        "\n",
        "# Access Tapiwa's mark\n",
        "marks[0][1]"
      ],
      "execution_count": 0,
      "outputs": [
        {
          "output_type": "execute_result",
          "data": {
            "text/plain": [
              "53"
            ]
          },
          "metadata": {
            "tags": []
          },
          "execution_count": 19
        }
      ]
    },
    {
      "cell_type": "code",
      "metadata": {
        "colab_type": "code",
        "id": "G5QsV7Gmiz1Y",
        "colab": {}
      },
      "source": [
        ""
      ],
      "execution_count": 0,
      "outputs": []
    },
    {
      "cell_type": "markdown",
      "metadata": {
        "colab_type": "text",
        "id": "nOMPQXfkiz1U"
      },
      "source": [
        "## Dictionary\n",
        "\n",
        "* Key-value pair\n",
        "* They are mutable\n",
        "* They are unordered\n",
        "* declared using {key : value}"
      ]
    },
    {
      "cell_type": "code",
      "metadata": {
        "colab_type": "code",
        "outputId": "51de246d-3b32-4878-d989-fd42242e6c35",
        "id": "qekO2YIUiz1G",
        "colab": {
          "base_uri": "https://localhost:8080/",
          "height": 34
        }
      },
      "source": [
        "browsers = {\n",
        "    'Chrome' : 0.9,\n",
        "    'Firefox' : 0.8,\n",
        "    'IE' : 0.2,\n",
        "    'Safari' : 0.4\n",
        "}\n",
        "browsers"
      ],
      "execution_count": 0,
      "outputs": [
        {
          "output_type": "execute_result",
          "data": {
            "text/plain": [
              "{'Chrome': 0.9, 'Firefox': 0.8, 'IE': 0.2, 'Safari': 0.4}"
            ]
          },
          "metadata": {
            "tags": []
          },
          "execution_count": 20
        }
      ]
    },
    {
      "cell_type": "code",
      "metadata": {
        "colab_type": "code",
        "outputId": "8e15772f-b44e-48cb-f7d4-106413ec5ec8",
        "id": "KzeptmM5iz01",
        "colab": {
          "base_uri": "https://localhost:8080/",
          "height": 34
        }
      },
      "source": [
        "# accessing the dict\n",
        "browsers['Chrome']\n",
        "\n",
        "#browsers.get('Chrome')"
      ],
      "execution_count": 0,
      "outputs": [
        {
          "output_type": "execute_result",
          "data": {
            "text/plain": [
              "0.9"
            ]
          },
          "metadata": {
            "tags": []
          },
          "execution_count": 21
        }
      ]
    },
    {
      "cell_type": "code",
      "metadata": {
        "colab_type": "code",
        "outputId": "b0706a80-24ef-4f99-fdf1-df203daeeaea",
        "id": "Tt8jtYfpiz0i",
        "colab": {
          "base_uri": "https://localhost:8080/",
          "height": 34
        }
      },
      "source": [
        "del browsers['Safari']\n",
        "\n",
        "browsers"
      ],
      "execution_count": 0,
      "outputs": [
        {
          "output_type": "execute_result",
          "data": {
            "text/plain": [
              "{'Chrome': 0.9, 'Firefox': 0.8, 'IE': 0.2}"
            ]
          },
          "metadata": {
            "tags": []
          },
          "execution_count": 22
        }
      ]
    },
    {
      "cell_type": "code",
      "metadata": {
        "colab_type": "code",
        "outputId": "790d1dda-1eab-4938-b619-25084e553045",
        "id": "6uV19Tjdiz0H",
        "colab": {
          "base_uri": "https://localhost:8080/",
          "height": 34
        }
      },
      "source": [
        "# Mutability\n",
        "browsers['Firefox'] = 0.85\n",
        "browsers"
      ],
      "execution_count": 0,
      "outputs": [
        {
          "output_type": "execute_result",
          "data": {
            "text/plain": [
              "{'Chrome': 0.9, 'Firefox': 0.85, 'IE': 0.2}"
            ]
          },
          "metadata": {
            "tags": []
          },
          "execution_count": 23
        }
      ]
    },
    {
      "cell_type": "code",
      "metadata": {
        "colab_type": "code",
        "outputId": "c5f9204f-4b96-49e2-9ca7-ed606f211233",
        "id": "Nb4Xcdhlizzl",
        "colab": {
          "base_uri": "https://localhost:8080/",
          "height": 34
        }
      },
      "source": [
        "browsers.items()\n",
        "\n",
        "#browsers.values()"
      ],
      "execution_count": 0,
      "outputs": [
        {
          "output_type": "execute_result",
          "data": {
            "text/plain": [
              "dict_items([('Chrome', 0.9), ('Firefox', 0.85), ('IE', 0.2)])"
            ]
          },
          "metadata": {
            "tags": []
          },
          "execution_count": 24
        }
      ]
    },
    {
      "cell_type": "code",
      "metadata": {
        "colab_type": "code",
        "id": "vvLDvkchizzc",
        "colab": {}
      },
      "source": [
        ""
      ],
      "execution_count": 0,
      "outputs": []
    },
    {
      "cell_type": "markdown",
      "metadata": {
        "colab_type": "text",
        "id": "d2IoXqZ4izzX"
      },
      "source": [
        "## Set\n",
        "* Unordered\n",
        "* Items occur only onces"
      ]
    },
    {
      "cell_type": "code",
      "metadata": {
        "colab_type": "code",
        "outputId": "6d54fe60-8b17-4c75-977e-3723db9fe5e3",
        "id": "moZgv8PbizzE",
        "colab": {
          "base_uri": "https://localhost:8080/",
          "height": 34
        }
      },
      "source": [
        "# Create a set\n",
        "set(['Botswana', 'Namibia', 'Lesotho', 'Botswana'])"
      ],
      "execution_count": 0,
      "outputs": [
        {
          "output_type": "execute_result",
          "data": {
            "text/plain": [
              "{'Botswana', 'Lesotho', 'Namibia'}"
            ]
          },
          "metadata": {
            "tags": []
          },
          "execution_count": 25
        }
      ]
    },
    {
      "cell_type": "code",
      "metadata": {
        "colab_type": "code",
        "outputId": "d331ee1c-ca56-40b3-fcdf-b1a8facf0199",
        "id": "jB8WJJK_izy1",
        "colab": {
          "base_uri": "https://localhost:8080/",
          "height": 34
        }
      },
      "source": [
        "type({'Africa', 'Asia', 'Europe'})"
      ],
      "execution_count": 0,
      "outputs": [
        {
          "output_type": "execute_result",
          "data": {
            "text/plain": [
              "set"
            ]
          },
          "metadata": {
            "tags": []
          },
          "execution_count": 26
        }
      ]
    },
    {
      "cell_type": "code",
      "metadata": {
        "colab_type": "code",
        "outputId": "efa1f6a8-d13a-4b95-d37f-8808dffbe338",
        "id": "myK8xRs8izyh",
        "colab": {
          "base_uri": "https://localhost:8080/",
          "height": 34
        }
      },
      "source": [
        "continents = {'Africa', 'Asia', 'Europe'}\n",
        "\n",
        "# check for membership\n",
        "'Africa' in continents"
      ],
      "execution_count": 0,
      "outputs": [
        {
          "output_type": "execute_result",
          "data": {
            "text/plain": [
              "True"
            ]
          },
          "metadata": {
            "tags": []
          },
          "execution_count": 16
        }
      ]
    },
    {
      "cell_type": "code",
      "metadata": {
        "colab_type": "code",
        "outputId": "15f932eb-8afe-4de9-ea1d-ece47cecf27b",
        "id": "3CNaM2ACizyP",
        "colab": {
          "base_uri": "https://localhost:8080/",
          "height": 34
        }
      },
      "source": [
        "cont_copy = continents.copy()\n",
        "\n",
        "cont_copy.add('North America')\n",
        "cont_copy"
      ],
      "execution_count": 0,
      "outputs": [
        {
          "output_type": "execute_result",
          "data": {
            "text/plain": [
              "{'Africa', 'Asia', 'Europe', 'North America'}"
            ]
          },
          "metadata": {
            "tags": []
          },
          "execution_count": 28
        }
      ]
    },
    {
      "cell_type": "code",
      "metadata": {
        "colab_type": "code",
        "outputId": "de6fc653-c0f4-4172-d880-3deadf3c34ef",
        "id": "CWm8YXHTizxq",
        "colab": {
          "base_uri": "https://localhost:8080/",
          "height": 34
        }
      },
      "source": [
        "# intersection\n",
        "continents & cont_copy\n",
        "\n",
        "# check if continents is a subset of\n",
        "continents.issubset(cont_copy)"
      ],
      "execution_count": 0,
      "outputs": [
        {
          "output_type": "execute_result",
          "data": {
            "text/plain": [
              "True"
            ]
          },
          "metadata": {
            "tags": []
          },
          "execution_count": 29
        }
      ]
    },
    {
      "cell_type": "code",
      "metadata": {
        "colab_type": "code",
        "outputId": "b51ca148-6084-418c-def0-1d42562096b4",
        "id": "c_zEIiuOizw3",
        "colab": {
          "base_uri": "https://localhost:8080/",
          "height": 2771
        }
      },
      "source": [
        "help(continents)"
      ],
      "execution_count": 0,
      "outputs": [
        {
          "output_type": "stream",
          "text": [
            "Help on set object:\n",
            "\n",
            "class set(object)\n",
            " |  set() -> new empty set object\n",
            " |  set(iterable) -> new set object\n",
            " |  \n",
            " |  Build an unordered collection of unique elements.\n",
            " |  \n",
            " |  Methods defined here:\n",
            " |  \n",
            " |  __and__(self, value, /)\n",
            " |      Return self&value.\n",
            " |  \n",
            " |  __contains__(...)\n",
            " |      x.__contains__(y) <==> y in x.\n",
            " |  \n",
            " |  __eq__(self, value, /)\n",
            " |      Return self==value.\n",
            " |  \n",
            " |  __ge__(self, value, /)\n",
            " |      Return self>=value.\n",
            " |  \n",
            " |  __getattribute__(self, name, /)\n",
            " |      Return getattr(self, name).\n",
            " |  \n",
            " |  __gt__(self, value, /)\n",
            " |      Return self>value.\n",
            " |  \n",
            " |  __iand__(self, value, /)\n",
            " |      Return self&=value.\n",
            " |  \n",
            " |  __init__(self, /, *args, **kwargs)\n",
            " |      Initialize self.  See help(type(self)) for accurate signature.\n",
            " |  \n",
            " |  __ior__(self, value, /)\n",
            " |      Return self|=value.\n",
            " |  \n",
            " |  __isub__(self, value, /)\n",
            " |      Return self-=value.\n",
            " |  \n",
            " |  __iter__(self, /)\n",
            " |      Implement iter(self).\n",
            " |  \n",
            " |  __ixor__(self, value, /)\n",
            " |      Return self^=value.\n",
            " |  \n",
            " |  __le__(self, value, /)\n",
            " |      Return self<=value.\n",
            " |  \n",
            " |  __len__(self, /)\n",
            " |      Return len(self).\n",
            " |  \n",
            " |  __lt__(self, value, /)\n",
            " |      Return self<value.\n",
            " |  \n",
            " |  __ne__(self, value, /)\n",
            " |      Return self!=value.\n",
            " |  \n",
            " |  __new__(*args, **kwargs) from builtins.type\n",
            " |      Create and return a new object.  See help(type) for accurate signature.\n",
            " |  \n",
            " |  __or__(self, value, /)\n",
            " |      Return self|value.\n",
            " |  \n",
            " |  __rand__(self, value, /)\n",
            " |      Return value&self.\n",
            " |  \n",
            " |  __reduce__(...)\n",
            " |      Return state information for pickling.\n",
            " |  \n",
            " |  __repr__(self, /)\n",
            " |      Return repr(self).\n",
            " |  \n",
            " |  __ror__(self, value, /)\n",
            " |      Return value|self.\n",
            " |  \n",
            " |  __rsub__(self, value, /)\n",
            " |      Return value-self.\n",
            " |  \n",
            " |  __rxor__(self, value, /)\n",
            " |      Return value^self.\n",
            " |  \n",
            " |  __sizeof__(...)\n",
            " |      S.__sizeof__() -> size of S in memory, in bytes\n",
            " |  \n",
            " |  __sub__(self, value, /)\n",
            " |      Return self-value.\n",
            " |  \n",
            " |  __xor__(self, value, /)\n",
            " |      Return self^value.\n",
            " |  \n",
            " |  add(...)\n",
            " |      Add an element to a set.\n",
            " |      \n",
            " |      This has no effect if the element is already present.\n",
            " |  \n",
            " |  clear(...)\n",
            " |      Remove all elements from this set.\n",
            " |  \n",
            " |  copy(...)\n",
            " |      Return a shallow copy of a set.\n",
            " |  \n",
            " |  difference(...)\n",
            " |      Return the difference of two or more sets as a new set.\n",
            " |      \n",
            " |      (i.e. all elements that are in this set but not the others.)\n",
            " |  \n",
            " |  difference_update(...)\n",
            " |      Remove all elements of another set from this set.\n",
            " |  \n",
            " |  discard(...)\n",
            " |      Remove an element from a set if it is a member.\n",
            " |      \n",
            " |      If the element is not a member, do nothing.\n",
            " |  \n",
            " |  intersection(...)\n",
            " |      Return the intersection of two sets as a new set.\n",
            " |      \n",
            " |      (i.e. all elements that are in both sets.)\n",
            " |  \n",
            " |  intersection_update(...)\n",
            " |      Update a set with the intersection of itself and another.\n",
            " |  \n",
            " |  isdisjoint(...)\n",
            " |      Return True if two sets have a null intersection.\n",
            " |  \n",
            " |  issubset(...)\n",
            " |      Report whether another set contains this set.\n",
            " |  \n",
            " |  issuperset(...)\n",
            " |      Report whether this set contains another set.\n",
            " |  \n",
            " |  pop(...)\n",
            " |      Remove and return an arbitrary set element.\n",
            " |      Raises KeyError if the set is empty.\n",
            " |  \n",
            " |  remove(...)\n",
            " |      Remove an element from a set; it must be a member.\n",
            " |      \n",
            " |      If the element is not a member, raise a KeyError.\n",
            " |  \n",
            " |  symmetric_difference(...)\n",
            " |      Return the symmetric difference of two sets as a new set.\n",
            " |      \n",
            " |      (i.e. all elements that are in exactly one of the sets.)\n",
            " |  \n",
            " |  symmetric_difference_update(...)\n",
            " |      Update a set with the symmetric difference of itself and another.\n",
            " |  \n",
            " |  union(...)\n",
            " |      Return the union of sets as a new set.\n",
            " |      \n",
            " |      (i.e. all elements that are in either set.)\n",
            " |  \n",
            " |  update(...)\n",
            " |      Update a set with the union of itself and others.\n",
            " |  \n",
            " |  ----------------------------------------------------------------------\n",
            " |  Data and other attributes defined here:\n",
            " |  \n",
            " |  __hash__ = None\n",
            "\n"
          ],
          "name": "stdout"
        }
      ]
    },
    {
      "cell_type": "code",
      "metadata": {
        "colab_type": "code",
        "id": "LU0SAVamizwh",
        "colab": {}
      },
      "source": [
        ""
      ],
      "execution_count": 0,
      "outputs": []
    },
    {
      "cell_type": "markdown",
      "metadata": {
        "colab_type": "text",
        "id": "0GD847w6izwL"
      },
      "source": [
        ">> **Data Structures Complete**\n",
        "\n"
      ]
    },
    {
      "cell_type": "markdown",
      "metadata": {
        "id": "hCNDgOuQnFOi",
        "colab_type": "text"
      },
      "source": [
        "# Control Flow Statements\n",
        "\n",
        "* If Statement\n",
        "* For loop\n",
        "* while loop\n",
        "\n",
        "### Logical Conditions\n",
        "\n",
        "* Equals: a == b\n",
        "* Not Equals: a != b\n",
        "* Less than: a < b\n",
        "* Less than or equal to: a <= b\n",
        "* Greater than: a > b\n",
        "* Greater than or equal to: a >= b\n"
      ]
    },
    {
      "cell_type": "markdown",
      "metadata": {
        "id": "eHZXACYUr_w2",
        "colab_type": "text"
      },
      "source": [
        "## If-Else Statement"
      ]
    },
    {
      "cell_type": "code",
      "metadata": {
        "id": "rK6hfxNCob8Q",
        "colab_type": "code",
        "outputId": "5d53ceb4-b38a-4a4d-9d64-fb97bff6dada",
        "colab": {
          "base_uri": "https://localhost:8080/",
          "height": 34
        }
      },
      "source": [
        "a = 300\n",
        "b = 400\n",
        "\n",
        "# Indentation is crucial\n",
        "\n",
        "if a > b:\n",
        "  print('a is greater than b')\n",
        "else:\n",
        "  print('b is greater than a')\n"
      ],
      "execution_count": 0,
      "outputs": [
        {
          "output_type": "stream",
          "text": [
            "b is greater than a\n"
          ],
          "name": "stdout"
        }
      ]
    },
    {
      "cell_type": "code",
      "metadata": {
        "id": "4zWLUYLGwNiw",
        "colab_type": "code",
        "outputId": "40300167-4135-430d-a717-96982b78e02f",
        "colab": {
          "base_uri": "https://localhost:8080/",
          "height": 34
        }
      },
      "source": [
        "a = 300\n",
        "b = 400\n",
        "\n",
        "# elif statement\n",
        "if a > b:\n",
        "  print('a is greater than b')\n",
        "elif a == b:\n",
        "  print('b is equals to a')\n",
        "else:\n",
        "  print('b is greater than a')"
      ],
      "execution_count": 0,
      "outputs": [
        {
          "output_type": "stream",
          "text": [
            "b is greater than a\n"
          ],
          "name": "stdout"
        }
      ]
    },
    {
      "cell_type": "code",
      "metadata": {
        "id": "dVOJtuY4xGJ4",
        "colab_type": "code",
        "colab": {}
      },
      "source": [
        ""
      ],
      "execution_count": 0,
      "outputs": []
    },
    {
      "cell_type": "markdown",
      "metadata": {
        "id": "vspcGFjCxmLZ",
        "colab_type": "text"
      },
      "source": [
        "## For Loop\n",
        "\n",
        "* Typically used for iterating over a sequence"
      ]
    },
    {
      "cell_type": "code",
      "metadata": {
        "id": "nw8oI0a7xzV0",
        "colab_type": "code",
        "outputId": "8ad56271-aa78-4bee-edc7-dfe3fab22a6d",
        "colab": {
          "base_uri": "https://localhost:8080/",
          "height": 68
        }
      },
      "source": [
        "for cont in continents:\n",
        "  print(cont)"
      ],
      "execution_count": 0,
      "outputs": [
        {
          "output_type": "stream",
          "text": [
            "Asia\n",
            "Europe\n",
            "Africa\n"
          ],
          "name": "stdout"
        }
      ]
    },
    {
      "cell_type": "code",
      "metadata": {
        "id": "cAVLN6J7yKgW",
        "colab_type": "code",
        "outputId": "260c3ca3-6bff-4784-d0b8-20f8aa0cc9c2",
        "colab": {
          "base_uri": "https://localhost:8080/",
          "height": 85
        }
      },
      "source": [
        "for country in countries:\n",
        "  print(country)"
      ],
      "execution_count": 0,
      "outputs": [
        {
          "output_type": "stream",
          "text": [
            "Botswana\n",
            "Lesotho\n",
            "South Africa\n",
            "Zimbabwe\n"
          ],
          "name": "stdout"
        }
      ]
    },
    {
      "cell_type": "code",
      "metadata": {
        "id": "qJVVHe_Xyp5n",
        "colab_type": "code",
        "outputId": "66321df4-1a0a-4e88-fa89-a39d34e286f9",
        "colab": {
          "base_uri": "https://localhost:8080/",
          "height": 85
        }
      },
      "source": [
        "# Use elif inside the for loop\n",
        "for country in countries:\n",
        "  if country == 'Botswana':\n",
        "    print('BW')\n",
        "  elif country == 'Zimbabwe':\n",
        "    print('Zim')\n",
        "  elif country == 'South Africa':\n",
        "    print('RSA')\n",
        "  else:\n",
        "    print('Les')"
      ],
      "execution_count": 0,
      "outputs": [
        {
          "output_type": "stream",
          "text": [
            "BW\n",
            "Les\n",
            "RSA\n",
            "Zim\n"
          ],
          "name": "stdout"
        }
      ]
    },
    {
      "cell_type": "code",
      "metadata": {
        "id": "Z89S7ZOb2d77",
        "colab_type": "code",
        "outputId": "259a7a24-d7ec-473f-a62d-ef26ec0cb2ba",
        "colab": {
          "base_uri": "https://localhost:8080/",
          "height": 51
        }
      },
      "source": [
        "# Create a list of tuples with element (i, i+1)\n",
        "list_ = []\n",
        "\n",
        "for i in range(0,10, 2):\n",
        "  list_.append((i, i+1))\n",
        "print(list_)\n",
        "\n",
        "list_2 = [(i, i + 1) for i in range(0,10, 2)]\n",
        "print(list_2)"
      ],
      "execution_count": 0,
      "outputs": [
        {
          "output_type": "stream",
          "text": [
            "[(0, 1), (2, 3), (4, 5), (6, 7), (8, 9)]\n",
            "[(0, 1), (2, 3), (4, 5), (6, 7), (8, 9)]\n"
          ],
          "name": "stdout"
        }
      ]
    },
    {
      "cell_type": "code",
      "metadata": {
        "id": "BdXD4aIu1f5G",
        "colab_type": "code",
        "colab": {}
      },
      "source": [
        ""
      ],
      "execution_count": 0,
      "outputs": []
    },
    {
      "cell_type": "markdown",
      "metadata": {
        "id": "zmABXpWq1x9Y",
        "colab_type": "text"
      },
      "source": [
        "## While loop\n",
        "* Repeat as long as the condition is met"
      ]
    },
    {
      "cell_type": "code",
      "metadata": {
        "id": "Y5F82Rwz2B7h",
        "colab_type": "code",
        "outputId": "d96a1555-0317-4849-acf8-eaef69ade9ac",
        "colab": {
          "base_uri": "https://localhost:8080/",
          "height": 68
        }
      },
      "source": [
        "count = 1\n",
        "\n",
        "while count < len(countries):\n",
        "  print('Iteration number', count)\n",
        "  count += 1\n"
      ],
      "execution_count": 0,
      "outputs": [
        {
          "output_type": "stream",
          "text": [
            "Iteration number 1\n",
            "Iteration number 2\n",
            "Iteration number 3\n"
          ],
          "name": "stdout"
        }
      ]
    },
    {
      "cell_type": "markdown",
      "metadata": {
        "id": "O3_gsIPCjO4i",
        "colab_type": "text"
      },
      "source": [
        "# Classes and Objects\n",
        "\n",
        "## Classes\n",
        "* A way to bundle data and functionality together\n",
        "* Blueprint for creating objects/instances\n",
        "\n",
        "## Objects\n",
        "* Instances of classes\n",
        "* Have state stored in their attributes/fields\n",
        "* Uses methods to access and alter it's state\n",
        "\n",
        "\n"
      ]
    },
    {
      "cell_type": "code",
      "metadata": {
        "id": "LbAXoVbHjbWk",
        "colab_type": "code",
        "outputId": "ae6d9d31-2b79-4687-8943-112a543c5522",
        "colab": {
          "base_uri": "https://localhost:8080/",
          "height": 51
        }
      },
      "source": [
        "# A simple example of a class\n",
        "\n",
        "class Student:\n",
        "  # initialising objects with state\n",
        "  def __init__(self, name):\n",
        "    self.name = name\n",
        "  \n",
        "  # an example of a method\n",
        "  def alter_name(self, new_name):\n",
        "    self.name = new_name\n",
        "\n",
        "# An object instantiation\n",
        "p1 = Student('Noone')\n",
        "\n",
        "# using the object's state\n",
        "print(p1.name)\n",
        "\n",
        "# altering the object's state\n",
        "p1.alter_name('John')\n",
        "\n",
        "# accessing the object's state\n",
        "print(p1.name)"
      ],
      "execution_count": 0,
      "outputs": [
        {
          "output_type": "stream",
          "text": [
            "Noone\n",
            "John\n"
          ],
          "name": "stdout"
        }
      ]
    },
    {
      "cell_type": "markdown",
      "metadata": {
        "colab_type": "text",
        "id": "DgLNYZDalxDQ"
      },
      "source": [
        "# Functions And Methods\n",
        "\n",
        "* There are two types of each: user defined and built-in\n",
        "\n",
        "##Functions\n",
        "\n",
        "* Not attached to any object\n",
        "* Bundles functionality that does not belong to any single class or object\n",
        "\n",
        "## Methods\n",
        "* Defined within a class and attached to the class' objects\n",
        "* Bundles certain functionality associated with the class\n",
        "* Used to access the class attributes"
      ]
    },
    {
      "cell_type": "code",
      "metadata": {
        "id": "Ip7xtLPQpuMB",
        "colab_type": "code",
        "colab": {}
      },
      "source": [
        "# Built In function\n",
        "\n",
        "# help\n",
        "  #help(pow)\n",
        "# len\n",
        "  #len([2,3,4,5])\n",
        "# pow\n",
        "  #pow(2,2)\n",
        "\n",
        "# Built in Methods\n",
        "\n",
        "# sort() and append() on list  \n",
        "#help(list)"
      ],
      "execution_count": 0,
      "outputs": []
    },
    {
      "cell_type": "code",
      "metadata": {
        "colab_type": "code",
        "outputId": "57d3f4a3-4642-4f02-bac6-5cbc5f41d3c2",
        "id": "ScgMYptAlxDV",
        "colab": {
          "base_uri": "https://localhost:8080/",
          "height": 51
        }
      },
      "source": [
        "# User Defined Functions and methods\n",
        "\n",
        "\n",
        "# Define a function called function\n",
        "def function():\n",
        "  print('This is the function_call')\n",
        "  \n",
        "# Define a class\n",
        "class MethodTest:\n",
        "  def __init__(self, name):\n",
        "    self.name = name\n",
        "  \n",
        "  # Define a method within the class\n",
        "  def method(self):\n",
        "    print('This is the', self.name)\n",
        "\n",
        "# create an object and call its method\n",
        "p = MethodTest('method_call')\n",
        "p.method()\n",
        "\n",
        "# call the function\n",
        "function()"
      ],
      "execution_count": 0,
      "outputs": [
        {
          "output_type": "stream",
          "text": [
            "This is the method_call\n",
            "This is the function_call\n"
          ],
          "name": "stdout"
        }
      ]
    },
    {
      "cell_type": "markdown",
      "metadata": {
        "id": "KVxawvMKuGQu",
        "colab_type": "text"
      },
      "source": [
        "# Exercises\n",
        "\n",
        "1. Create a functions that raises a number  to the 4th power. (*hint: use the pow() function*)\n",
        "\n",
        "2. Create a list of numbers from 0 to 100 incrementing by 3 and name it nums_3_s\n",
        "\n",
        "3. Create a list of numbers from 0 to 100 incrementing by 5 and name it nums_5_s\n",
        "\n",
        "4. Convert lists nums_3_s and nums_5_s to sets and get the intersection (*hint: Google is a good friend*)\n",
        "\n",
        "5. Create a method that calculates the sum of the numbers in the intersection of 2 sets"
      ]
    }
  ]
}